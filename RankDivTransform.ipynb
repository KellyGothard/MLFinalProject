{
 "cells": [
  {
   "cell_type": "code",
   "execution_count": 1,
   "metadata": {},
   "outputs": [],
   "source": [
    "from datetime import timedelta\n",
    "import ujson\n",
    "import pandas as pd\n",
    "from datetime import datetime\n",
    "from sklearn import metrics\n",
    "import praw\n",
    "import nltk\n",
    "from sklearn.feature_extraction.text import TfidfVectorizer\n",
    "from sklearn.feature_extraction.text import TfidfTransformer\n",
    "from sklearn.tree import DecisionTreeClassifier\n",
    "import re\n",
    "from nltk.corpus import stopwords\n",
    "from nltk.stem import WordNetLemmatizer\n",
    "import argparse\n",
    "import gzip\n",
    "from nltk.stem.porter import PorterStemmer\n",
    "from collections import Counter\n",
    "from sklearn.model_selection import train_test_split\n",
    "import string\n",
    "from sklearn.feature_extraction.text import CountVectorizer\n",
    "import scipy\n",
    "import os\n",
    "from sklearn.svm import SVC\n",
    "from sklearn.model_selection import cross_val_score\n",
    "from sklearn.model_selection import cross_val_predict\n",
    "import numpy as np\n",
    "from sklearn.pipeline import Pipeline\n",
    "from sklearn.ensemble import ExtraTreesClassifier\n",
    "from tabulate import tabulate\n",
    "from sklearn.ensemble import GradientBoostingClassifier\n",
    "import matplotlib.pyplot as plt\n",
    "import matplotlib.cm as cm\n",
    "from sklearn.naive_bayes import MultinomialNB\n",
    "from sklearn.ensemble import RandomForestClassifier\n",
    "from sklearn.datasets import make_classification\n",
    "import seaborn as sns"
   ]
  },
  {
   "cell_type": "code",
   "execution_count": 2,
   "metadata": {},
   "outputs": [],
   "source": [
    "def read_csv(path):\n",
    "    return pd.read_csv(path)"
   ]
  },
  {
   "cell_type": "code",
   "execution_count": 3,
   "metadata": {},
   "outputs": [],
   "source": [
    "def bow_from_df(df,stemmer):\n",
    "    \n",
    "    # Get posts as a list\n",
    "    posts = list(df['body'])\n",
    "    for p in posts:\n",
    "        if type(p) != str:\n",
    "            posts.remove(posts[posts.index(p)])\n",
    "    s = ' '.join(posts)\n",
    "    s = s.translate(str.maketrans('', '', string.punctuation))\n",
    "    s = re.sub(r'^https?:\\/\\/.*[\\r\\n]*', '', s, flags=re.MULTILINE)\n",
    "\n",
    "    # Lower case, split string of words into list of words, lemmatize\n",
    "    document = s.lower()\n",
    "#    document = document.split()\n",
    "    #document = [stemmer.lemmatize(word) for word in document]\n",
    "    return document"
   ]
  },
  {
   "cell_type": "code",
   "execution_count": 4,
   "metadata": {},
   "outputs": [],
   "source": [
    "def word_counts(df,stemmer):\n",
    "    \n",
    "    # Bag of words\n",
    "    corpus = bow_from_df(df,stemmer).split()\n",
    "    \n",
    "    # Get counts for each word in bag\n",
    "    corpus_counts = Counter(corpus)\n",
    "    # Create dataframe of words and counts\n",
    "    corpus_df = pd.DataFrame.from_dict(corpus_counts, orient='index').reset_index()\n",
    "    corpus_df = corpus_df.rename(columns={'index':'word', 0:'count'})\n",
    "    # Create column for rank in dataframe\n",
    "    corpus_df[\"rank\"] = corpus_df['count'].rank(method = 'average',ascending = False) \n",
    "    corpus_df = corpus_df.sort_values(by = ['count'],ascending = False)\n",
    "    \n",
    "    return corpus_df"
   ]
  },
  {
   "cell_type": "code",
   "execution_count": 5,
   "metadata": {},
   "outputs": [],
   "source": [
    "def rank_divergence(c1,c2,STEM):\n",
    "    corpus1_df = word_counts(c1,STEM)\n",
    "    corpus2_df = word_counts(c2,STEM)\n",
    "    \n",
    "    merged = corpus1_df.merge(corpus2_df, on = 'word')\n",
    "    merged['rank_div'] = abs(merged['rank_y'] - merged['rank_x'])\n",
    "    merged['importance'] = abs(merged['rank_div'] - (merged['rank_x']**2))*10\n",
    "    return merged"
   ]
  },
  {
   "cell_type": "code",
   "execution_count": 6,
   "metadata": {},
   "outputs": [],
   "source": [
    "def subreddit_post(df,subreddit,banned,stemmer):\n",
    "    df = df[df['subreddit'] == subreddit]\n",
    "    posts = bow_from_df(df,stemmer)\n",
    "    return [subreddit, posts, banned]"
   ]
  },
  {
   "cell_type": "code",
   "execution_count": 7,
   "metadata": {},
   "outputs": [],
   "source": [
    "def cross_val(clf,X,y):\n",
    "    y_pred = cross_val_predict(clf, X, y, cv=10)\n",
    "    print(metrics.classification_report(y, y_pred))\n",
    "    print(metrics.confusion_matrix(y, y_pred))\n",
    "    return metrics.f1_score(y,y_pred,pos_label=1, average='binary')"
   ]
  },
  {
   "cell_type": "code",
   "execution_count": 8,
   "metadata": {},
   "outputs": [],
   "source": [
    "# Read in banned and unbanned csv, aggregate posts by subreddit\n",
    "STEM = WordNetLemmatizer()\n",
    "\n",
    "    \n",
    "banned_df = pd.read_csv('banned.csv')\n",
    "notbanned_df = pd.read_csv('notbanned.csv')\n",
    "temp = notbanned_df.groupby('subreddit').count()\n",
    "temp = temp.reset_index()\n",
    "sample_srs = list(temp['subreddit'].sample(n=117))\n",
    "notbanned_df = notbanned_df[notbanned_df['subreddit'].isin(sample_srs)]\n",
    "\n",
    "data = []\n",
    "\n",
    "for subreddit in banned_df['subreddit'].unique():\n",
    "    data.append(subreddit_post(banned_df,subreddit,1,STEM))\n",
    "\n",
    "for subreddit in notbanned_df['subreddit'].unique():\n",
    "    data.append(subreddit_post(notbanned_df,subreddit,0,STEM)) "
   ]
  },
  {
   "cell_type": "code",
   "execution_count": 9,
   "metadata": {},
   "outputs": [
    {
     "data": {
      "text/plain": [
       "(array([117.,   0.,   0.,   0.,   0.,   0.,   0.,   0.,   0., 117.]),\n",
       " array([0. , 0.1, 0.2, 0.3, 0.4, 0.5, 0.6, 0.7, 0.8, 0.9, 1. ]),\n",
       " <a list of 10 Patch objects>)"
      ]
     },
     "execution_count": 9,
     "metadata": {},
     "output_type": "execute_result"
    },
    {
     "data": {
      "image/png": "[encoded data removed]",
      "text/plain": [
       "<Figure size 432x288 with 1 Axes>"
      ]
     },
     "metadata": {
      "needs_background": "light"
     },
     "output_type": "display_data"
    }
   ],
   "source": [
    "sr_df = pd.DataFrame(data, columns = ['subreddit','posts','banned'])\n",
    "rank_df = rank_divergence(banned_df,notbanned_df,STEM)\n",
    "#rank_div = np.matrix(rank_df['rank_div'])\n",
    "#r = np.dot(rank_div.T,rank_div)\n",
    "plt.hist(sr_df['banned'])"
   ]
  },
  {
   "cell_type": "code",
   "execution_count": 10,
   "metadata": {},
   "outputs": [],
   "source": [
    "corpus = sr_df['posts']\n",
    "tfidf = CountVectorizer(max_features = len(rank_df))\n",
    "\n",
    "X = tfidf.fit_transform(corpus)\n",
    "y = sr_df['banned']"
   ]
  },
  {
   "cell_type": "code",
   "execution_count": 11,
   "metadata": {},
   "outputs": [
    {
     "name": "stdout",
     "output_type": "stream",
     "text": [
      "(4778, 4778)\n"
     ]
    }
   ],
   "source": [
    "# Transformation\n",
    "#counts = scipy.sparse.diags(rank_df.rank_div, 0)\n",
    "counts = np.tile(rank_df.rank_div,(X.shape[1],1))\n",
    "print(counts.shape)\n",
    "X_rankdiv = (X*counts)\n",
    "counts_importance = scipy.sparse.diags(rank_df.importance, 0)\n",
    "X_importance = (X*counts_importance)"
   ]
  },
  {
   "cell_type": "code",
   "execution_count": 12,
   "metadata": {},
   "outputs": [],
   "source": [
    "def rankdiv_vs_not(clf,X,y):\n",
    "    clf = clf.fit(X, y)\n",
    "    return cross_val(clf, X, y)"
   ]
  },
  {
   "cell_type": "code",
   "execution_count": 13,
   "metadata": {},
   "outputs": [],
   "source": [
    "def word_embedding_hist(X):\n",
    "    plt.hist(X)\n",
    "    plt.show()\n",
    "    \n",
    "#print(X_rankdiv)"
   ]
  },
  {
   "cell_type": "code",
   "execution_count": 14,
   "metadata": {
    "scrolled": true
   },
   "outputs": [
    {
     "name": "stdout",
     "output_type": "stream",
     "text": [
      "              precision    recall  f1-score   support\n",
      "\n",
      "           0       0.73      0.53      0.61       117\n",
      "           1       0.63      0.80      0.71       117\n",
      "\n",
      "   micro avg       0.67      0.67      0.67       234\n",
      "   macro avg       0.68      0.67      0.66       234\n",
      "weighted avg       0.68      0.67      0.66       234\n",
      "\n",
      "[[62 55]\n",
      " [23 94]]\n",
      "              precision    recall  f1-score   support\n",
      "\n",
      "           0       0.44      0.03      0.06       117\n",
      "           1       0.50      0.96      0.65       117\n",
      "\n",
      "   micro avg       0.50      0.50      0.50       234\n",
      "   macro avg       0.47      0.50      0.36       234\n",
      "weighted avg       0.47      0.50      0.36       234\n",
      "\n",
      "[[  4 113]\n",
      " [  5 112]]\n"
     ]
    }
   ],
   "source": [
    "scores = []\n",
    "clf = MultinomialNB()\n",
    "d = rankdiv_vs_not(clf,X,y)\n",
    "scores.append(['MNB','TF-IDF',d])\n",
    "d = rankdiv_vs_not(clf,X_rankdiv,y)\n",
    "scores.append(['MNB','TF-IDF+RD',d])"
   ]
  },
  {
   "cell_type": "code",
   "execution_count": 15,
   "metadata": {},
   "outputs": [
    {
     "name": "stdout",
     "output_type": "stream",
     "text": [
      "              precision    recall  f1-score   support\n",
      "\n",
      "           0       0.62      0.67      0.64       117\n",
      "           1       0.64      0.60      0.62       117\n",
      "\n",
      "   micro avg       0.63      0.63      0.63       234\n",
      "   macro avg       0.63      0.63      0.63       234\n",
      "weighted avg       0.63      0.63      0.63       234\n",
      "\n",
      "[[78 39]\n",
      " [47 70]]\n",
      "              precision    recall  f1-score   support\n",
      "\n",
      "           0       0.51      0.60      0.55       117\n",
      "           1       0.52      0.44      0.47       117\n",
      "\n",
      "   micro avg       0.52      0.52      0.52       234\n",
      "   macro avg       0.52      0.52      0.51       234\n",
      "weighted avg       0.52      0.52      0.51       234\n",
      "\n",
      "[[70 47]\n",
      " [66 51]]\n"
     ]
    }
   ],
   "source": [
    "temp = []\n",
    "clf = DecisionTreeClassifier()\n",
    "d = rankdiv_vs_not(clf,X,y)\n",
    "scores.append(['DT','TF-IDF',d])\n",
    "d = rankdiv_vs_not(clf,X_rankdiv,y)\n",
    "scores.append(['DT','TF-IDF+RD',d])"
   ]
  },
  {
   "cell_type": "code",
   "execution_count": 16,
   "metadata": {},
   "outputs": [
    {
     "name": "stderr",
     "output_type": "stream",
     "text": [
      "/Users/kellyg/anaconda3/lib/python3.7/site-packages/sklearn/svm/base.py:196: FutureWarning: The default value of gamma will change from 'auto' to 'scale' in version 0.22 to account better for unscaled features. Set gamma explicitly to 'auto' or 'scale' to avoid this warning.\n",
      "  \"avoid this warning.\", FutureWarning)\n",
      "/Users/kellyg/anaconda3/lib/python3.7/site-packages/sklearn/svm/base.py:196: FutureWarning: The default value of gamma will change from 'auto' to 'scale' in version 0.22 to account better for unscaled features. Set gamma explicitly to 'auto' or 'scale' to avoid this warning.\n",
      "  \"avoid this warning.\", FutureWarning)\n"
     ]
    },
    {
     "name": "stdout",
     "output_type": "stream",
     "text": [
      "              precision    recall  f1-score   support\n",
      "\n",
      "           0       0.58      0.91      0.71       117\n",
      "           1       0.79      0.32      0.46       117\n",
      "\n",
      "   micro avg       0.62      0.62      0.62       234\n",
      "   macro avg       0.68      0.62      0.58       234\n",
      "weighted avg       0.68      0.62      0.58       234\n",
      "\n",
      "[[107  10]\n",
      " [ 79  38]]\n"
     ]
    },
    {
     "name": "stderr",
     "output_type": "stream",
     "text": [
      "/Users/kellyg/anaconda3/lib/python3.7/site-packages/sklearn/svm/base.py:196: FutureWarning: The default value of gamma will change from 'auto' to 'scale' in version 0.22 to account better for unscaled features. Set gamma explicitly to 'auto' or 'scale' to avoid this warning.\n",
      "  \"avoid this warning.\", FutureWarning)\n",
      "/Users/kellyg/anaconda3/lib/python3.7/site-packages/sklearn/svm/base.py:196: FutureWarning: The default value of gamma will change from 'auto' to 'scale' in version 0.22 to account better for unscaled features. Set gamma explicitly to 'auto' or 'scale' to avoid this warning.\n",
      "  \"avoid this warning.\", FutureWarning)\n",
      "/Users/kellyg/anaconda3/lib/python3.7/site-packages/sklearn/svm/base.py:196: FutureWarning: The default value of gamma will change from 'auto' to 'scale' in version 0.22 to account better for unscaled features. Set gamma explicitly to 'auto' or 'scale' to avoid this warning.\n",
      "  \"avoid this warning.\", FutureWarning)\n",
      "/Users/kellyg/anaconda3/lib/python3.7/site-packages/sklearn/svm/base.py:196: FutureWarning: The default value of gamma will change from 'auto' to 'scale' in version 0.22 to account better for unscaled features. Set gamma explicitly to 'auto' or 'scale' to avoid this warning.\n",
      "  \"avoid this warning.\", FutureWarning)\n",
      "/Users/kellyg/anaconda3/lib/python3.7/site-packages/sklearn/svm/base.py:196: FutureWarning: The default value of gamma will change from 'auto' to 'scale' in version 0.22 to account better for unscaled features. Set gamma explicitly to 'auto' or 'scale' to avoid this warning.\n",
      "  \"avoid this warning.\", FutureWarning)\n",
      "/Users/kellyg/anaconda3/lib/python3.7/site-packages/sklearn/svm/base.py:196: FutureWarning: The default value of gamma will change from 'auto' to 'scale' in version 0.22 to account better for unscaled features. Set gamma explicitly to 'auto' or 'scale' to avoid this warning.\n",
      "  \"avoid this warning.\", FutureWarning)\n",
      "/Users/kellyg/anaconda3/lib/python3.7/site-packages/sklearn/svm/base.py:196: FutureWarning: The default value of gamma will change from 'auto' to 'scale' in version 0.22 to account better for unscaled features. Set gamma explicitly to 'auto' or 'scale' to avoid this warning.\n",
      "  \"avoid this warning.\", FutureWarning)\n",
      "/Users/kellyg/anaconda3/lib/python3.7/site-packages/sklearn/svm/base.py:196: FutureWarning: The default value of gamma will change from 'auto' to 'scale' in version 0.22 to account better for unscaled features. Set gamma explicitly to 'auto' or 'scale' to avoid this warning.\n",
      "  \"avoid this warning.\", FutureWarning)\n",
      "/Users/kellyg/anaconda3/lib/python3.7/site-packages/sklearn/svm/base.py:196: FutureWarning: The default value of gamma will change from 'auto' to 'scale' in version 0.22 to account better for unscaled features. Set gamma explicitly to 'auto' or 'scale' to avoid this warning.\n",
      "  \"avoid this warning.\", FutureWarning)\n",
      "/Users/kellyg/anaconda3/lib/python3.7/site-packages/sklearn/svm/base.py:196: FutureWarning: The default value of gamma will change from 'auto' to 'scale' in version 0.22 to account better for unscaled features. Set gamma explicitly to 'auto' or 'scale' to avoid this warning.\n",
      "  \"avoid this warning.\", FutureWarning)\n",
      "/Users/kellyg/anaconda3/lib/python3.7/site-packages/sklearn/svm/base.py:196: FutureWarning: The default value of gamma will change from 'auto' to 'scale' in version 0.22 to account better for unscaled features. Set gamma explicitly to 'auto' or 'scale' to avoid this warning.\n",
      "  \"avoid this warning.\", FutureWarning)\n"
     ]
    },
    {
     "name": "stdout",
     "output_type": "stream",
     "text": [
      "              precision    recall  f1-score   support\n",
      "\n",
      "           0       0.51      0.28      0.36       117\n",
      "           1       0.50      0.73      0.59       117\n",
      "\n",
      "   micro avg       0.50      0.50      0.50       234\n",
      "   macro avg       0.51      0.50      0.48       234\n",
      "weighted avg       0.51      0.50      0.48       234\n",
      "\n",
      "[[33 84]\n",
      " [32 85]]\n"
     ]
    }
   ],
   "source": [
    "temp = []\n",
    "clf = SVC()\n",
    "d = rankdiv_vs_not(clf,X,y)\n",
    "scores.append(['SVC','TF-IDF',d])\n",
    "d = rankdiv_vs_not(clf,X_rankdiv,y)\n",
    "scores.append(['SVC','TF-IDF+RD',d])"
   ]
  },
  {
   "cell_type": "code",
   "execution_count": 17,
   "metadata": {},
   "outputs": [
    {
     "name": "stdout",
     "output_type": "stream",
     "text": [
      "              precision    recall  f1-score   support\n",
      "\n",
      "           0       0.58      0.75      0.66       117\n",
      "           1       0.65      0.46      0.54       117\n",
      "\n",
      "   micro avg       0.61      0.61      0.61       234\n",
      "   macro avg       0.62      0.61      0.60       234\n",
      "weighted avg       0.62      0.61      0.60       234\n",
      "\n",
      "[[88 29]\n",
      " [63 54]]\n",
      "              precision    recall  f1-score   support\n",
      "\n",
      "           0       0.50      0.55      0.52       117\n",
      "           1       0.50      0.46      0.48       117\n",
      "\n",
      "   micro avg       0.50      0.50      0.50       234\n",
      "   macro avg       0.50      0.50      0.50       234\n",
      "weighted avg       0.50      0.50      0.50       234\n",
      "\n",
      "[[64 53]\n",
      " [63 54]]\n"
     ]
    }
   ],
   "source": [
    "clf = RandomForestClassifier(n_estimators = 50, class_weight = 'balanced')\n",
    "d = rankdiv_vs_not(clf,X,y)\n",
    "scores.append(['RF','TF-IDF',d])\n",
    "d = rankdiv_vs_not(clf,X_rankdiv,y)\n",
    "scores.append(['RF','TF-IDF+RD',d])"
   ]
  },
  {
   "cell_type": "code",
   "execution_count": 18,
   "metadata": {},
   "outputs": [
    {
     "data": {
      "image/png": "[encoded data removed]",
      "text/plain": [
       "<Figure size 720x432 with 1 Axes>"
      ]
     },
     "metadata": {
      "needs_background": "light"
     },
     "output_type": "display_data"
    }
   ],
   "source": [
    "df = pd.DataFrame(scores,columns=['clf','vec','f1'])\n",
    "plt.figure(figsize=(10, 6))\n",
    "sns.barplot(x=\"clf\", hue=\"vec\", y=\"f1\", data=df)\n",
    "plt.legend(bbox_to_anchor=(1, 1), loc=9, borderaxespad=0.4)\n",
    "plt.xlabel('Classifier')\n",
    "plt.ylabel('Banned: F1 Score')\n",
    "plt.savefig('clf_barplot.png')"
   ]
  },
  {
   "cell_type": "code",
   "execution_count": null,
   "metadata": {},
   "outputs": [],
   "source": []
  }
 ],
 "metadata": {
  "kernelspec": {
   "display_name": "Python 3",
   "language": "python",
   "name": "python3"
  },
  "language_info": {
   "codemirror_mode": {
    "name": "ipython",
    "version": 3
   },
   "file_extension": ".py",
   "mimetype": "text/x-python",
   "name": "python",
   "nbconvert_exporter": "python",
   "pygments_lexer": "ipython3",
   "version": "3.7.1"
  }
 },
 "nbformat": 4,
 "nbformat_minor": 2
}
